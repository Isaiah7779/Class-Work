{
 "cells": [
  {
   "cell_type": "code",
   "execution_count": 1,
   "id": "b9ca635d",
   "metadata": {},
   "outputs": [],
   "source": [
    "def even_or_odd(num):\n",
    "    if num%2==0:\n",
    "        return \"The number {} is Even\".format(num)\n",
    "    else:\n",
    "        return \"The number {} is odd\".format(num)"
   ]
  },
  {
   "cell_type": "code",
   "execution_count": 2,
   "id": "427a619e",
   "metadata": {},
   "outputs": [
    {
     "data": {
      "text/plain": [
       "'The number 24 is Even'"
      ]
     },
     "execution_count": 2,
     "metadata": {},
     "output_type": "execute_result"
    }
   ],
   "source": [
    "even_or_odd(24)"
   ]
  },
  {
   "cell_type": "code",
   "execution_count": 3,
   "id": "06df6a33",
   "metadata": {},
   "outputs": [],
   "source": [
    "lst=[1,2,3,4,5,6,76,56,4,64,34,34]"
   ]
  },
  {
   "cell_type": "code",
   "execution_count": 4,
   "id": "79e1981f",
   "metadata": {},
   "outputs": [
    {
     "data": {
      "text/plain": [
       "['The number 1 is odd',\n",
       " 'The number 2 is Even',\n",
       " 'The number 3 is odd',\n",
       " 'The number 4 is Even',\n",
       " 'The number 5 is odd',\n",
       " 'The number 6 is Even',\n",
       " 'The number 76 is Even',\n",
       " 'The number 56 is Even',\n",
       " 'The number 4 is Even',\n",
       " 'The number 64 is Even',\n",
       " 'The number 34 is Even',\n",
       " 'The number 34 is Even']"
      ]
     },
     "execution_count": 4,
     "metadata": {},
     "output_type": "execute_result"
    }
   ],
   "source": [
    "list(map(even_or_odd,lst))"
   ]
  },
  {
   "cell_type": "code",
   "execution_count": null,
   "id": "eee97a3c",
   "metadata": {},
   "outputs": [],
   "source": []
  }
 ],
 "metadata": {
  "kernelspec": {
   "display_name": "Python 3 (ipykernel)",
   "language": "python",
   "name": "python3"
  },
  "language_info": {
   "codemirror_mode": {
    "name": "ipython",
    "version": 3
   },
   "file_extension": ".py",
   "mimetype": "text/x-python",
   "name": "python",
   "nbconvert_exporter": "python",
   "pygments_lexer": "ipython3",
   "version": "3.11.4"
  }
 },
 "nbformat": 4,
 "nbformat_minor": 5
}
