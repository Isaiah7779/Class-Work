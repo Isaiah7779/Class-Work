{
 "cells": [
  {
   "cell_type": "code",
   "execution_count": 1,
   "id": "13e4851a",
   "metadata": {},
   "outputs": [
    {
     "ename": "SyntaxError",
     "evalue": "closing parenthesis ']' does not match opening parenthesis '{' (2259341339.py, line 1)",
     "output_type": "error",
     "traceback": [
      "\u001b[1;36m  Cell \u001b[1;32mIn[1], line 1\u001b[1;36m\u001b[0m\n\u001b[1;33m    df = pd.DataFrame({1,2,3,4],\u001b[0m\n\u001b[1;37m                              ^\u001b[0m\n\u001b[1;31mSyntaxError\u001b[0m\u001b[1;31m:\u001b[0m closing parenthesis ']' does not match opening parenthesis '{'\n"
     ]
    }
   ],
   "source": [
    "df = pd.DataFrame({1,2,3,4],"
   ]
  },
  {
   "cell_type": "code",
   "execution_count": 3,
   "id": "a5ddffa3",
   "metadata": {},
   "outputs": [
    {
     "ename": "SyntaxError",
     "evalue": "closing parenthesis ')' does not match opening parenthesis '{' on line 1 (910352784.py, line 3)",
     "output_type": "error",
     "traceback": [
      "\u001b[1;36m  Cell \u001b[1;32mIn[3], line 3\u001b[1;36m\u001b[0m\n\u001b[1;33m    'C':pd.series(1,index=list(range(4))),dtype='float32'),\u001b[0m\n\u001b[1;37m                                                         ^\u001b[0m\n\u001b[1;31mSyntaxError\u001b[0m\u001b[1;31m:\u001b[0m closing parenthesis ')' does not match opening parenthesis '{' on line 1\n"
     ]
    }
   ],
   "source": [
    "df = pd.DataFrame({'a':[1,2,3,4],\n",
    "                   'B':pd.Timestamp('20200301'),\n",
    "                   'C':pd.series(1,index=list(range(4))),dtype='float32'),\n",
    "                   'D':np.array([5]*4, dtype= 'int32'),\n",
    "                   'E':pd.categorical(['true','false','true','false']),\n",
    "                   'F':'harish'})"
   ]
  },
  {
   "cell_type": "code",
   "execution_count": null,
   "id": "2abb563b",
   "metadata": {},
   "outputs": [],
   "source": []
  }
 ],
 "metadata": {
  "kernelspec": {
   "display_name": "Python 3 (ipykernel)",
   "language": "python",
   "name": "python3"
  },
  "language_info": {
   "codemirror_mode": {
    "name": "ipython",
    "version": 3
   },
   "file_extension": ".py",
   "mimetype": "text/x-python",
   "name": "python",
   "nbconvert_exporter": "python",
   "pygments_lexer": "ipython3",
   "version": "3.11.4"
  }
 },
 "nbformat": 4,
 "nbformat_minor": 5
}
