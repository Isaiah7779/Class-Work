{
 "cells": [
  {
   "cell_type": "code",
   "execution_count": 1,
   "id": "d6579d0f",
   "metadata": {},
   "outputs": [
    {
     "name": "stdout",
     "output_type": "stream",
     "text": [
      "42\n"
     ]
    }
   ],
   "source": [
    "integer_scalar = 42\n",
    "print(integer_scalar)"
   ]
  },
  {
   "cell_type": "code",
   "execution_count": 2,
   "id": "203df41d",
   "metadata": {},
   "outputs": [
    {
     "name": "stdout",
     "output_type": "stream",
     "text": [
      "7\n",
      "10\n",
      "True\n",
      "False\n"
     ]
    }
   ],
   "source": [
    "a = 5\n",
    "b = 2\n",
    "sum_result = a + b\n",
    "product_result = a * b\n",
    "is_greater = a > b\n",
    "is_equal = a == b\n",
    "print(sum_result)\n",
    "print(product_result)\n",
    "print(is_greater)\n",
    "print(is_equal)"
   ]
  },
  {
   "cell_type": "code",
   "execution_count": 3,
   "id": "967d974f",
   "metadata": {},
   "outputs": [
    {
     "name": "stdout",
     "output_type": "stream",
     "text": [
      "Vector Addition: [5 7 9]\n",
      "Vector Subtraction: [-3 -3 -3]\n",
      "Scalar Multiplication: [2 4 6]\n",
      "Dot Product: 32\n",
      "Cross Product: [-6 12 -6]\n",
      "Magnitude of Vector1: 3.7416573867739413\n",
      "Unit Vector of Vector1: [0.26726124 0.53452248 0.80178373]\n"
     ]
    }
   ],
   "source": [
    "import numpy as np\n",
    "\n",
    "vector1 = np.array([1, 2, 3])  \n",
    "vector2 = np.array([4, 5, 6])\n",
    "\n",
    "result_addition = vector1 + vector2\n",
    "print(\"Vector Addition:\", result_addition)\n",
    "\n",
    "result_subtraction = vector1 - vector2\n",
    "print(\"Vector Subtraction:\", result_subtraction)\n",
    "\n",
    "scalar = 2\n",
    "result_scalar_multiplication = scalar * vector1\n",
    "print(\"Scalar Multiplication:\", result_scalar_multiplication)\n",
    "\n",
    "dot_product = np.dot(vector1, vector2)\n",
    "print(\"Dot Product:\", dot_product)\n",
    "\n",
    "vector3 = np.array([7, 8, 9])\n",
    "cross_product = np.cross(vector1, vector3)\n",
    "print(\"Cross Product:\", cross_product)\n",
    "\n",
    "magnitude_vector1 = np.linalg.norm(vector1)\n",
    "print(\"Magnitude of Vector1:\", magnitude_vector1)\n",
    "\n",
    "unit_vector1 = vector1 / np.linalg.norm(vector1)\n",
    "print(\"Unit Vector of Vector1:\", unit_vector1)"
   ]
  },
  {
   "cell_type": "code",
   "execution_count": 4,
   "id": "2bd9e063",
   "metadata": {},
   "outputs": [
    {
     "name": "stdout",
     "output_type": "stream",
     "text": [
      "Matrix A:\n",
      "[[1 2 3]\n",
      " [4 5 6]\n",
      " [7 8 9]]\n",
      "\n",
      "Matrix B:\n",
      "[[9 8 7]\n",
      " [6 5 4]\n",
      " [3 2 1]]\n",
      "\n",
      "Addition of matrices A and B:\n",
      "[[10 10 10]\n",
      " [10 10 10]\n",
      " [10 10 10]]\n",
      "\n",
      "Subtraction of matrices A and B:\n",
      "[[-8 -6 -4]\n",
      " [-2  0  2]\n",
      " [ 4  6  8]]\n",
      "\n",
      "Element-wise multiplication of matrices A and B:\n",
      "[[ 9 16 21]\n",
      " [24 25 24]\n",
      " [21 16  9]]\n",
      "\n",
      "Matrix multiplication (dot product) of matrices A and B:\n",
      "[[ 30  24  18]\n",
      " [ 84  69  54]\n",
      " [138 114  90]]\n",
      "\n",
      "Transpose of matrix A:\n",
      "[[1 4 7]\n",
      " [2 5 8]\n",
      " [3 6 9]]\n"
     ]
    }
   ],
   "source": [
    "import numpy as np\n",
    "\n",
    "matrix_a = np.array([[1, 2, 3], [4, 5, 6], [7, 8, 9]])\n",
    "\n",
    "matrix_b = np.array([[9, 8, 7], [6, 5, 4], [3, 2, 1]])\n",
    "\n",
    "result_addition = matrix_a + matrix_b\n",
    "\n",
    "result_subtraction = matrix_a - matrix_b\n",
    "\n",
    "result_element_wise = matrix_a * matrix_b\n",
    "\n",
    "result_matrix_multiply = np.dot(matrix_a, matrix_b)\n",
    "\n",
    "matrix_a_transpose = np.transpose(matrix_a)\n",
    "\n",
    "print(\"Matrix A:\")\n",
    "print(matrix_a)\n",
    "\n",
    "print(\"\\nMatrix B:\")\n",
    "print(matrix_b)\n",
    "\n",
    "print(\"\\nAddition of matrices A and B:\")\n",
    "print(result_addition)\n",
    "\n",
    "print(\"\\nSubtraction of matrices A and B:\")\n",
    "print(result_subtraction)\n",
    "\n",
    "print(\"\\nElement-wise multiplication of matrices A and B:\")\n",
    "print(result_element_wise)\n",
    "\n",
    "print(\"\\nMatrix multiplication (dot product) of matrices A and B:\")\n",
    "print(result_matrix_multiply)\n",
    "\n",
    "print(\"\\nTranspose of matrix A:\")\n",
    "print(matrix_a_transpose)"
   ]
  },
  {
   "cell_type": "code",
   "execution_count": 5,
   "id": "ab63e6bc",
   "metadata": {},
   "outputs": [
    {
     "name": "stdout",
     "output_type": "stream",
     "text": [
      "Minimum of the function: -0.24999999999999956\n"
     ]
    }
   ],
   "source": [
    "import numpy as np\n",
    "\n",
    "def f(x):\n",
    "    return x**2 + 3*x + 2\n",
    "\n",
    "\n",
    "x = np.array(2.0) \n",
    "learning_rate = 0.1 \n",
    "n_iterations = 100 \n",
    "\n",
    "for _ in range(n_iterations):\n",
    "    gradient = 2 * x + 3 \n",
    "    x = x - learning_rate * gradient \n",
    "\n",
    "print(\"Minimum of the function:\", f(x))"
   ]
  },
  {
   "cell_type": "code",
   "execution_count": 6,
   "id": "e6d5ebf8",
   "metadata": {},
   "outputs": [
    {
     "name": "stdout",
     "output_type": "stream",
     "text": [
      "Eigenvalues:\n",
      "[5. 2.]\n",
      "\n",
      "Eigenvectors:\n",
      "[[ 0.89442719 -0.70710678]\n",
      " [ 0.4472136   0.70710678]]\n"
     ]
    }
   ],
   "source": [
    "import numpy as np\n",
    "\n",
    "A = np.array([[4, 2],\n",
    "              [1, 3]])\n",
    "\n",
    "eigenvalues, eigenvectors = np.linalg.eig(A)\n",
    "\n",
    "print(\"Eigenvalues:\")\n",
    "print(eigenvalues)\n",
    "print(\"\\nEigenvectors:\")\n",
    "print(eigenvectors)"
   ]
  },
  {
   "cell_type": "code",
   "execution_count": 7,
   "id": "4196e1dc",
   "metadata": {},
   "outputs": [
    {
     "name": "stdout",
     "output_type": "stream",
     "text": [
      "Frobenius Norm: 3.872983346207417\n",
      "2-Norm: 3.6180339887498953\n",
      "Infinity Norm: 4.0\n",
      "Eigenvalues: [3.61803399 1.38196601]\n",
      "Eigenvectors:\n",
      "[[ 0.85065081 -0.52573111]\n",
      " [ 0.52573111  0.85065081]]\n"
     ]
    }
   ],
   "source": [
    "import numpy as np\n",
    "\n",
    "A = np.array([[3, 1],\n",
    "              [1, 2]])\n",
    "\n",
    "frobenius_norm = np.linalg.norm(A, 'fro')\n",
    "print(\"Frobenius Norm:\", frobenius_norm)\n",
    "\n",
    "two_norm = np.linalg.norm(A, 2)\n",
    "print(\"2-Norm:\", two_norm)\n",
    "\n",
    "inf_norm = np.linalg.norm(A, np.inf)\n",
    "print(\"Infinity Norm:\", inf_norm)\n",
    "\n",
    "eigenvalues, eigenvectors = np.linalg.eig(A)\n",
    "print(\"Eigenvalues:\", eigenvalues)\n",
    "print(\"Eigenvectors:\")\n",
    "print(eigenvectors)"
   ]
  },
  {
   "cell_type": "code",
   "execution_count": null,
   "id": "f3b539e7",
   "metadata": {},
   "outputs": [],
   "source": []
  },
  {
   "cell_type": "code",
   "execution_count": null,
   "id": "ea67632a",
   "metadata": {},
   "outputs": [],
   "source": []
  },
  {
   "cell_type": "code",
   "execution_count": null,
   "id": "e5c928e7",
   "metadata": {},
   "outputs": [],
   "source": []
  }
 ],
 "metadata": {
  "kernelspec": {
   "display_name": "Python 3 (ipykernel)",
   "language": "python",
   "name": "python3"
  },
  "language_info": {
   "codemirror_mode": {
    "name": "ipython",
    "version": 3
   },
   "file_extension": ".py",
   "mimetype": "text/x-python",
   "name": "python",
   "nbconvert_exporter": "python",
   "pygments_lexer": "ipython3",
   "version": "3.11.4"
  }
 },
 "nbformat": 4,
 "nbformat_minor": 5
}
