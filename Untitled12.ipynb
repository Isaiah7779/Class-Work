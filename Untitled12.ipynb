{
 "cells": [
  {
   "cell_type": "code",
   "execution_count": 16,
   "id": "47b75323",
   "metadata": {
    "scrolled": true
   },
   "outputs": [
    {
     "name": "stdout",
     "output_type": "stream",
     "text": [
      "Missing Values in Each Column:\n",
      "Series_reference        0\n",
      "Period                  0\n",
      "Data_value           2839\n",
      "Suppressed          18963\n",
      "STATUS                  0\n",
      "UNITS                   0\n",
      "Magnitude               0\n",
      "Subject                 0\n",
      "Group                   0\n",
      "Series_title_1          0\n",
      "Series_title_2          0\n",
      "Series_title_3          0\n",
      "Series_title_4      21802\n",
      "Series_title_5      21802\n",
      "dtype: int64\n",
      "Percentage of Missing Values: 21.43%\n"
     ]
    }
   ],
   "source": [
    "import pandas as pd\n",
    "\n",
    "# Step 2: Read the CSV file into a DataFrame\n",
    "file_path = \"C:/Users/Dell/Downloads/business-employment-data-june-2023-quarter/tryout1.csv\"\n",
    "df = pd.read_csv(file_path)\n",
    "\n",
    "# Step 3: Analyze missing values\n",
    "# Check for missing values in the entire DataFrame\n",
    "missing_values = df.isnull().sum()\n",
    "\n",
    "# If you want to check for missing values in specific columns, you can do so like this:\n",
    "# missing_values_in_column = df['ColumnName'].isnull().sum()\n",
    "\n",
    "# To check for missing values in a specific row, you can do this:\n",
    "# missing_values_in_row = df.iloc[row_index].isnull().sum()\n",
    "\n",
    "# Display the results\n",
    "print(\"Missing Values in Each Column:\")\n",
    "print(missing_values)\n",
    "\n",
    "# You can also calculate the percentage of missing values in each column:\n",
    "total_cells = df.size\n",
    "total_missing = missing_values.sum()\n",
    "percentage_missing = (total_missing / total_cells) * 100\n",
    "print(f\"Percentage of Missing Values: {percentage_missing:.2f}%\")\n"
   ]
  },
  {
   "cell_type": "code",
   "execution_count": 14,
   "id": "a42db3ea",
   "metadata": {
    "scrolled": true
   },
   "outputs": [
    {
     "data": {
      "text/plain": [
       "Series_reference        0\n",
       "Period                  0\n",
       "Data_value           2839\n",
       "Suppressed          18963\n",
       "STATUS                  0\n",
       "UNITS                   0\n",
       "Magnitude               0\n",
       "Subject                 0\n",
       "Group                   0\n",
       "Series_title_1          0\n",
       "Series_title_2          0\n",
       "Series_title_3          0\n",
       "Series_title_4      21802\n",
       "Series_title_5      21802\n",
       "dtype: int64"
      ]
     },
     "execution_count": 14,
     "metadata": {},
     "output_type": "execute_result"
    }
   ],
   "source": [
    "missing_values.dropna()"
   ]
  },
  {
   "cell_type": "code",
   "execution_count": 15,
   "id": "de43a8db",
   "metadata": {},
   "outputs": [
    {
     "data": {
      "text/plain": [
       "Series_reference        0\n",
       "Period                  0\n",
       "Data_value           2839\n",
       "Suppressed          18963\n",
       "STATUS                  0\n",
       "UNITS                   0\n",
       "Magnitude               0\n",
       "Subject                 0\n",
       "Group                   0\n",
       "Series_title_1          0\n",
       "Series_title_2          0\n",
       "Series_title_3          0\n",
       "Series_title_4      21802\n",
       "Series_title_5      21802\n",
       "dtype: int64"
      ]
     },
     "execution_count": 15,
     "metadata": {},
     "output_type": "execute_result"
    }
   ],
   "source": [
    "missing_values.fillna(value=\"NA\")"
   ]
  },
  {
   "cell_type": "code",
   "execution_count": null,
   "id": "0bcb492d",
   "metadata": {},
   "outputs": [],
   "source": []
  },
  {
   "cell_type": "code",
   "execution_count": null,
   "id": "b0038083",
   "metadata": {},
   "outputs": [],
   "source": []
  },
  {
   "cell_type": "code",
   "execution_count": null,
   "id": "f9a0abe2",
   "metadata": {},
   "outputs": [],
   "source": []
  }
 ],
 "metadata": {
  "kernelspec": {
   "display_name": "Python 3 (ipykernel)",
   "language": "python",
   "name": "python3"
  },
  "language_info": {
   "codemirror_mode": {
    "name": "ipython",
    "version": 3
   },
   "file_extension": ".py",
   "mimetype": "text/x-python",
   "name": "python",
   "nbconvert_exporter": "python",
   "pygments_lexer": "ipython3",
   "version": "3.11.4"
  }
 },
 "nbformat": 4,
 "nbformat_minor": 5
}
